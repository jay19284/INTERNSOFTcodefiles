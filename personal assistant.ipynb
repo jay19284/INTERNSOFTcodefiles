{
 "cells": [
  {
   "cell_type": "code",
   "execution_count": null,
   "id": "cf5e7d21",
   "metadata": {},
   "outputs": [],
   "source": [
    "import os\n",
    "import time\n",
    "import subprocess\n",
    "import json"
   ]
  },
  {
   "cell_type": "code",
   "execution_count": null,
   "id": "3d3c66c0",
   "metadata": {},
   "outputs": [],
   "source": [
    "import wolframalpha\n",
    "import wikipedia\n",
    "# import webbrowswer\n",
    "import requests\n",
    "import datetime"
   ]
  },
  {
   "cell_type": "code",
   "execution_count": null,
   "id": "9c98c564",
   "metadata": {},
   "outputs": [],
   "source": [
    "import speech_recognition as sr\n",
    "import pyttsx3"
   ]
  },
  {
   "cell_type": "code",
   "execution_count": null,
   "id": "f2a207fb",
   "metadata": {},
   "outputs": [],
   "source": [
    "print('Loading your personal assistant!')"
   ]
  },
  {
   "cell_type": "code",
   "execution_count": null,
   "id": "ccbf631c",
   "metadata": {},
   "outputs": [],
   "source": [
    "engine = pyttsx3.init('espeak')\n",
    "voices = engine.getProperty('voices')\n",
    "engine.setProperty('voice', 'voices[0].id')"
   ]
  },
  {
   "cell_type": "code",
   "execution_count": null,
   "id": "f7991992",
   "metadata": {},
   "outputs": [],
   "source": [
    "def speak(text):\n",
    "    engine.say(text)\n",
    "    engine.runAndWait()"
   ]
  },
  {
   "cell_type": "code",
   "execution_count": null,
   "id": "fcdd22a3",
   "metadata": {},
   "outputs": [],
   "source": [
    "def wishMe():\n",
    "    hour = datetime.datetime.now().hour\n",
    "    if hour >= 0 and hour < 12:\n",
    "        speak(\"hello, good morning jay!\")\n",
    "        print(\"hello, good morning jay!\")\n",
    "    elif hour >= 12 and hour <= 20:\n",
    "        speak(\"hello, good afternoon jay!\")\n",
    "        print(\"hello, good afternoon jay!\")\n",
    "    else:\n",
    "        speak(\"good night jay!\")\n",
    "        print(\"good night jay!\")\n"
   ]
  },
  {
   "cell_type": "code",
   "execution_count": null,
   "id": "c15de825",
   "metadata": {},
   "outputs": [],
   "source": [
    "def takeCommand():\n",
    "    r = sr.Recognizer()\n",
    "    with sr.Microphone() as source:\n",
    "        print(\"I am listening..\")\n",
    "        audio = r.listen(source=source)\n",
    "\n",
    "        try:\n",
    "            statement = r.recognize_google(audio_data=audio, language='en-in')\n",
    "            print(f\"user said: {statement}\\n\")\n",
    "        except Exception as e:\n",
    "            speak(\"pardon me, please say that again\")\n",
    "            return \"None\"\n",
    "        return statement"
   ]
  },
  {
   "cell_type": "code",
   "execution_count": null,
   "id": "6681de04",
   "metadata": {},
   "outputs": [],
   "source": [
    "speak(\"loading your personal assistant\")\n",
    "wishMe()"
   ]
  },
  {
   "cell_type": "code",
   "execution_count": null,
   "id": "e47d5c58",
   "metadata": {},
   "outputs": [],
   "source": [
    "import webbrowser\n"
   ]
  },
  {
   "cell_type": "code",
   "execution_count": null,
   "id": "ac7c6f7c",
   "metadata": {},
   "outputs": [],
   "source": [
    "if __name__ == \"__main__\":\n",
    "    while True:\n",
    "        speak(\"how can i help you ?\")\n",
    "        statement = takeCommand().lower()\n",
    "        if statement == 0:\n",
    "            continue\n",
    "        if \"good bye\" in statement or \"ok bye\" or \"stop\" in statement:\n",
    "            speak(\"your personal ai assistant is shutting down.\")\n",
    "            print(\"your personal ai assistant is shutting down.\")\n",
    "            break\n",
    "        if 'wikiperdia' in statement:\n",
    "            speak(\"searching wikipedia.....\")\n",
    "            statement = statement.replace(\"wikipedia\", \"\")\n",
    "            results = wikipedia.summary(statement, sentences=3)\n",
    "            speak(\"According to wikipedia..\")\n",
    "            print(results)\n",
    "            speak(results)\n",
    "        elif \"open youtube\" in statement:\n",
    "            webbrowser.open_new_tab(\"https:/www.youtube.com\")\n",
    "            speak(\"youtube is open for you\")\n",
    "            time.sleep(5)\n",
    "\n",
    "        elif \"open google\" in statement:\n",
    "            webbrowser.open_new_tab(\"https:/www.google.com\")\n",
    "            speak(\"google search is open for you\")\n",
    "            time.sleep(5)\n",
    "\n",
    "        elif \"open gmail\" in statement:\n",
    "            webbrowser.open_new_tab(\"https:/www.gmail.com\")\n",
    "            speak(\"your gmail is open for you\")\n",
    "            time.sleep(5)\n",
    "\n",
    "        elif \"weather\" in statement:\n",
    "            api_key = '8ef61edcf1c576d65d836254e11ea420'\n",
    "            base_url = 'https://api.openweathermap.org/data/2.5/weather?'\n",
    "            speak(\"what's the city name? \")\n",
    "            city_name = takeCommand()\n",
    "            complete_url = base_url + \"appid = \"+ api_key+\"&q=\"+city_name\n",
    "            response = requests.get(complete_url)\n",
    "            data = response.json()\n",
    "            if data[\"cod\"] != \"404\":\n",
    "                y = data[\"main\"]\n",
    "                current_temperature = y[\"temp\"]\n",
    "                current_humidity = y[\"humidity\"]\n",
    "                z = data[\"weather\"]\n",
    "                weather_description = z[0][\"description\"]\n",
    "                speak(\"the temperature in kelvin units is \" + str(current_temperature) + \n",
    "                      \"\\nhumidity in percentage is\" + str(current_humidity)+\"\\n weather descripton\" + str(weather_description))\n",
    "                print(\"the temperature in kelvin units is \" + str(current_temperature) + \n",
    "                      \"\\nhumidity in percentage is\" + str(current_humidity)+\"\\n weather descripton\" + str(weather_description))\n",
    "            else:\n",
    "                speak(\"city not found\")\n",
    "                print(\"city not found\")\n",
    "        \n",
    "        elif \"time\" in statement:\n",
    "            strTime = datetime.datetime.now().strftime(\"%H:%M:%S\")\n",
    "            speak(f\"the time is {strTime}\")\n",
    "\n",
    "        elif \"who are you\" in statement or \"what can you do\" in statement:\n",
    "            speak(\"I am your personal assistant. I can perform the following task like opening YouTube, Gmail, Google chrome and stack overflow. Also, I can Predict current time, take a photo, search Wikipedia to abstract required data, predict weather in different cities, get top headline news from Times of India and can answer computational and geographical questions too.\")\n",
    "\n",
    "        elif \"who made you\" in statement or \"who created you\" in statement:\n",
    "            speak(\"i was built by iron man\")\n",
    "            print(\"i was built by iron man\")\n",
    "\n",
    "        elif \"open stackoverflow\" in statement:\n",
    "            webbrowser.open_new_tab(\"https:/www.stackoverflow.com/login\")\n",
    "            speak(\"please login to your stackoverflow account\")\n",
    "            time.sleep(5)\n",
    "\n",
    "        elif \"news\" in statement:\n",
    "            news = webbrowser.open_new_tab(\n",
    "                \"https://timesofindia.indiatimes.com/home/headlines\")\n",
    "            speak(\"Here are some headlines from times of India for you - Happy Reading\")\n",
    "            time.sleep(7)\n",
    "\n",
    "        elif \"search\" in statement:\n",
    "            statement = statement.replace(\"search\", \" \")\n",
    "            webbrowser.open_new_tab(\"statement\")\n",
    "            time.sleep(5)\n",
    "\n",
    "        elif \"ask\" in  statement:\n",
    "            speak(\"I can answer computational and geographical questions too. What do you want to ask?\")\n",
    "            question = takeCommand()\n",
    "            app_id = \"R2K75H-7ELALHR35X\"\n",
    "            client = wolframalpha.Client(\"R2K75H-7ELALHR35X\")\n",
    "            result = client.query(question)\n",
    "            answer = next(results.results).text\n",
    "            speak(answer)\n",
    "            print(answer)\n",
    "\n",
    "\n",
    "        elif \"log off\" in statement or \"shut down\" in statement:\n",
    "            speak(\"your, pc will shut down in 10 seconds - make sure to save and exit from all applications\")\n",
    "            subprocess.call(['shutdown', '/1'])\n",
    "\n",
    "\n",
    "time.sleep(3)"
   ]
  }
 ],
 "metadata": {
  "kernelspec": {
   "display_name": "Python 3 (ipykernel)",
   "language": "python",
   "name": "python3"
  },
  "language_info": {
   "codemirror_mode": {
    "name": "ipython",
    "version": 3
   },
   "file_extension": ".py",
   "mimetype": "text/x-python",
   "name": "python",
   "nbconvert_exporter": "python",
   "pygments_lexer": "ipython3",
   "version": "3.10.12"
  }
 },
 "nbformat": 4,
 "nbformat_minor": 5
}
